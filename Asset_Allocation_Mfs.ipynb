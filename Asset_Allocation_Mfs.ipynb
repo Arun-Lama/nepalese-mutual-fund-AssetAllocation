{
 "cells": [
  {
   "cell_type": "code",
   "execution_count": 16,
   "id": "88aba628",
   "metadata": {},
   "outputs": [],
   "source": [
    "import plotly.express as px\n",
    "from selenium.webdriver.support.ui import WebDriverWait \n",
    "from selenium.webdriver.support import expected_conditions as EC\n",
    "from bs4 import BeautifulSoup\n",
    "from datetime import datetime\n",
    "import pandas as pd\n",
    "from selenium import webdriver\n",
    "from selenium.webdriver.chrome.service import Service\n",
    "from webdriver_manager.chrome import ChromeDriverManager\n",
    "from selenium.webdriver.chrome.options import Options\n",
    "import time\n",
    "from selenium.webdriver.common.by import By\n",
    "from selenium.webdriver.support.ui import Select\n",
    "from selenium.webdriver.common.keys import Keys\n",
    "import math"
   ]
  },
  {
   "cell_type": "code",
   "execution_count": 17,
   "id": "ad5553b1",
   "metadata": {},
   "outputs": [],
   "source": [
    "options = Options()\n",
    "options.add_argument(\"start-maximized\")\n",
    "driver = webdriver.Chrome(service=Service(ChromeDriverManager().install()), options=options)\n",
    "driver.get('https://nepsealpha.com/mutual-fund-navs')\n",
    "driver.find_element(By.XPATH, '//*[@id=\"filter-tabs\"]/li[3]/a' ).click()\n",
    "\n",
    "time.sleep(1)\n",
    "element = driver.find_element(By.NAME, 'DataTables_Table_2_length') #Dropdown\n",
    "dropdown = Select(element) #Selecting Dropdown\n",
    "dropdown.select_by_visible_text('100')\n",
    "time.sleep(1)\n",
    "html = driver.page_source\n",
    "soup = BeautifulSoup(html, 'html.parser')"
   ]
  },
  {
   "cell_type": "code",
   "execution_count": 18,
   "id": "04122e37",
   "metadata": {},
   "outputs": [],
   "source": [
    "driver.quit()"
   ]
  },
  {
   "cell_type": "code",
   "execution_count": 19,
   "id": "edbec275",
   "metadata": {},
   "outputs": [],
   "source": [
    "x = list(soup.find_all('tbody'))[2]"
   ]
  },
  {
   "cell_type": "code",
   "execution_count": 20,
   "id": "17d579d4",
   "metadata": {},
   "outputs": [],
   "source": [
    "table_data = []\n",
    "for data in x.find_all('td'):\n",
    "    table_data.append(data.text)"
   ]
  },
  {
   "cell_type": "code",
   "execution_count": 21,
   "id": "2cdaa242",
   "metadata": {
    "scrolled": false
   },
   "outputs": [],
   "source": [
    "all_mfs = []\n",
    "for index, i in enumerate(list(table_data)):\n",
    "    if index % 6 == 0:\n",
    "        slicing = table_data[index:index+6]\n",
    "        each_mutual_fund = {'Ticker' : slicing[0],\n",
    "                            'Name' : slicing[1],\n",
    "                            'Date' : slicing[2],\n",
    "                           'Fixed Income' : slicing[3],\n",
    "                           'Cash': slicing[4],\n",
    "                           'Equity Market' : slicing[5]\n",
    "                           }\n",
    "        \n",
    "        all_mfs.append(each_mutual_fund)\n",
    "        \n",
    "    else:\n",
    "        pass"
   ]
  },
  {
   "cell_type": "code",
   "execution_count": 22,
   "id": "762d507a",
   "metadata": {},
   "outputs": [],
   "source": [
    "final = pd.DataFrame.from_dict(all_mfs)"
   ]
  },
  {
   "cell_type": "code",
   "execution_count": 23,
   "id": "d13a5055",
   "metadata": {},
   "outputs": [],
   "source": [
    "mask = ['Fixed Income', 'Cash', 'Equity Market']"
   ]
  },
  {
   "cell_type": "code",
   "execution_count": 24,
   "id": "c66bf4f2",
   "metadata": {},
   "outputs": [],
   "source": [
    "final[mask] = final[mask].replace(' ', '', regex= True).replace('%','',regex = True)"
   ]
  },
  {
   "cell_type": "code",
   "execution_count": 25,
   "id": "2f378325",
   "metadata": {},
   "outputs": [],
   "source": [
    "final = final[final['Equity Market'] != '']"
   ]
  },
  {
   "cell_type": "code",
   "execution_count": 26,
   "id": "554cc34d",
   "metadata": {},
   "outputs": [],
   "source": [
    "final[mask] = final[mask].astype(float)"
   ]
  },
  {
   "cell_type": "code",
   "execution_count": null,
   "id": "c6784626",
   "metadata": {},
   "outputs": [],
   "source": [
    "final"
   ]
  },
  {
   "cell_type": "code",
   "execution_count": 28,
   "id": "4556de7f",
   "metadata": {},
   "outputs": [
    {
     "name": "stdout",
     "output_type": "stream",
     "text": [
      "Completed\n"
     ]
    }
   ],
   "source": [
    "print('Completed')"
   ]
  }
 ],
 "metadata": {
  "kernelspec": {
   "display_name": "Python 3 (ipykernel)",
   "language": "python",
   "name": "python3"
  },
  "language_info": {
   "codemirror_mode": {
    "name": "ipython",
    "version": 3
   },
   "file_extension": ".py",
   "mimetype": "text/x-python",
   "name": "python",
   "nbconvert_exporter": "python",
   "pygments_lexer": "ipython3",
   "version": "3.11.3"
  }
 },
 "nbformat": 4,
 "nbformat_minor": 5
}
